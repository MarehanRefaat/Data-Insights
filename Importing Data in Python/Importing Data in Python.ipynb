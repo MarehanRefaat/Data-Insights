{
 "cells": [
  {
   "cell_type": "markdown",
   "metadata": {},
   "source": [
    "### Python build-in functions (`read()`, `readline()`, and `readlines()`)"
   ]
  },
  {
   "cell_type": "code",
   "execution_count": 1,
   "metadata": {},
   "outputs": [
    {
     "name": "stdout",
     "output_type": "stream",
     "text": [
      "Country/Region\n",
      "Mainland China\n",
      "Japan\n",
      "Singapore\n",
      "Hong Kong\n",
      "Japan\n",
      "Thailand\n",
      "South Korea\n",
      "Malaysia\n",
      "Taiwan\n",
      "Germany\n",
      "Vietnam\n",
      "France\n",
      "Macau\n",
      "UK\n",
      "United Arab Emirates\n",
      "US\n",
      "Australia\n"
     ]
    }
   ],
   "source": [
    "with open('sample.txt', 'r') as reader:\n",
    "    # Read & print the entire file\n",
    "    print(reader.read())"
   ]
  },
  {
   "cell_type": "code",
   "execution_count": 2,
   "metadata": {},
   "outputs": [
    {
     "name": "stdout",
     "output_type": "stream",
     "text": [
      "Count\n"
     ]
    }
   ],
   "source": [
    "with open('sample.txt', 'r') as reader:\n",
    "    # Read & print the partial file\n",
    "    print(reader.read(5))"
   ]
  },
  {
   "cell_type": "code",
   "execution_count": 3,
   "metadata": {},
   "outputs": [
    {
     "name": "stdout",
     "output_type": "stream",
     "text": [
      "Country/Region\n",
      "\n"
     ]
    }
   ],
   "source": [
    "with open('sample.txt', 'r') as reader:\n",
    "    # Read & print the first 5 characters of the line 1 time\n",
    "    print(reader.readline())"
   ]
  },
  {
   "cell_type": "code",
   "execution_count": 4,
   "metadata": {},
   "outputs": [
    {
     "name": "stdout",
     "output_type": "stream",
     "text": [
      "Count\n",
      "ry/Re\n",
      "gion\n",
      "\n",
      "Mainl\n",
      "and C\n"
     ]
    }
   ],
   "source": [
    "with open('sample.txt', 'r') as reader:\n",
    "    # Read & print the first 5 characters of the line 5 times\n",
    "    print(reader.readline(5))\n",
    "    print(reader.readline(5))\n",
    "    print(reader.readline(5))\n",
    "    print(reader.readline(5))\n",
    "    print(reader.readline(5))"
   ]
  },
  {
   "cell_type": "code",
   "execution_count": 5,
   "metadata": {},
   "outputs": [
    {
     "name": "stdout",
     "output_type": "stream",
     "text": [
      "['Country/Region\\n', 'Mainland China\\n', 'Japan\\n', 'Singapore\\n', 'Hong Kong\\n', 'Japan\\n', 'Thailand\\n', 'South Korea\\n', 'Malaysia\\n', 'Taiwan\\n', 'Germany\\n', 'Vietnam\\n', 'France\\n', 'Macau\\n', 'UK\\n', 'United Arab Emirates\\n', 'US\\n', 'Australia']\n"
     ]
    }
   ],
   "source": [
    "with open('sample.txt', 'r') as reader:\n",
    "    print(reader.readlines())"
   ]
  },
  {
   "cell_type": "markdown",
   "metadata": {},
   "source": [
    "### Python `csv` module"
   ]
  },
  {
   "cell_type": "code",
   "execution_count": 6,
   "metadata": {},
   "outputs": [],
   "source": [
    "import csv"
   ]
  },
  {
   "cell_type": "code",
   "execution_count": 7,
   "metadata": {},
   "outputs": [
    {
     "name": "stdout",
     "output_type": "stream",
     "text": [
      "['Province/State', 'Country/Region', 'Last Update', 'Confirmed', 'Deaths', 'Recovered', 'City', 'Date_last_updated_AEDT', 'lat', 'lon']\n",
      "['Hubei', 'China', '02/15/2020 23:00', '56249', '1596', '5623', '', '2020-02-16 15:00:00', '31.1517252', '112.8783222']\n",
      "['Guangdong', 'China', '02/15/2020 23:00', '1316', '2', '442', '', '2020-02-16 15:00:00', '23.1357694', '113.1982688']\n",
      "['Henan', 'China', '02/15/2020 23:00', '1231', '13', '415', '', '2020-02-16 15:00:00', '34.0000001', '113.9999999']\n"
     ]
    }
   ],
   "source": [
    "with open('sample.csv','r') as myFile:  \n",
    "    lines=csv.reader(myFile, delimiter=',')  \n",
    "    for line in lines:  \n",
    "        print(line)"
   ]
  },
  {
   "cell_type": "code",
   "execution_count": 8,
   "metadata": {},
   "outputs": [
    {
     "name": "stdout",
     "output_type": "stream",
     "text": [
      "OrderedDict([('Province/State', 'Hubei'), ('Country/Region', 'China'), ('Last Update', '02/15/2020 23:00'), ('Confirmed', '56249'), ('Deaths', '1596'), ('Recovered', '5623'), ('City', ''), ('Date_last_updated_AEDT', '2020-02-16 15:00:00'), ('lat', '31.1517252'), ('lon', '112.8783222')])\n",
      "OrderedDict([('Province/State', 'Guangdong'), ('Country/Region', 'China'), ('Last Update', '02/15/2020 23:00'), ('Confirmed', '1316'), ('Deaths', '2'), ('Recovered', '442'), ('City', ''), ('Date_last_updated_AEDT', '2020-02-16 15:00:00'), ('lat', '23.1357694'), ('lon', '113.1982688')])\n",
      "OrderedDict([('Province/State', 'Henan'), ('Country/Region', 'China'), ('Last Update', '02/15/2020 23:00'), ('Confirmed', '1231'), ('Deaths', '13'), ('Recovered', '415'), ('City', ''), ('Date_last_updated_AEDT', '2020-02-16 15:00:00'), ('lat', '34.0000001'), ('lon', '113.9999999')])\n"
     ]
    }
   ],
   "source": [
    "with open('sample.csv','r') as myFile: \n",
    "    lines=csv.DictReader(myFile, delimiter=',')\n",
    "    for line in lines:\n",
    "        print(line)"
   ]
  },
  {
   "cell_type": "code",
   "execution_count": 9,
   "metadata": {},
   "outputs": [],
   "source": [
    "filed1=[]\n",
    "filed2=[]\n",
    "filed3=[]\n",
    "with open('sample.csv','r') as myFile: \n",
    "    lines=csv.DictReader(myFile, delimiter=',')\n",
    "    for line in lines:\n",
    "        filed1.append(line['Province/State'])\n",
    "        filed2.append(line['Country/Region'])\n",
    "        filed3.append(line['Last Update'])"
   ]
  },
  {
   "cell_type": "code",
   "execution_count": 10,
   "metadata": {},
   "outputs": [
    {
     "data": {
      "text/plain": [
       "['Hubei', 'Guangdong', 'Henan']"
      ]
     },
     "execution_count": 10,
     "metadata": {},
     "output_type": "execute_result"
    }
   ],
   "source": [
    "filed1"
   ]
  },
  {
   "cell_type": "code",
   "execution_count": 11,
   "metadata": {},
   "outputs": [
    {
     "data": {
      "text/plain": [
       "['China', 'China', 'China']"
      ]
     },
     "execution_count": 11,
     "metadata": {},
     "output_type": "execute_result"
    }
   ],
   "source": [
    "filed2"
   ]
  },
  {
   "cell_type": "code",
   "execution_count": 12,
   "metadata": {},
   "outputs": [
    {
     "data": {
      "text/plain": [
       "['02/15/2020 23:00', '02/15/2020 23:00', '02/15/2020 23:00']"
      ]
     },
     "execution_count": 12,
     "metadata": {},
     "output_type": "execute_result"
    }
   ],
   "source": [
    "filed3"
   ]
  },
  {
   "cell_type": "markdown",
   "metadata": {},
   "source": [
    "### Import data using Pandas"
   ]
  },
  {
   "cell_type": "code",
   "execution_count": 13,
   "metadata": {},
   "outputs": [],
   "source": [
    "import pandas as pd"
   ]
  },
  {
   "cell_type": "code",
   "execution_count": 14,
   "metadata": {},
   "outputs": [
    {
     "data": {
      "text/html": [
       "<div>\n",
       "<style scoped>\n",
       "    .dataframe tbody tr th:only-of-type {\n",
       "        vertical-align: middle;\n",
       "    }\n",
       "\n",
       "    .dataframe tbody tr th {\n",
       "        vertical-align: top;\n",
       "    }\n",
       "\n",
       "    .dataframe thead th {\n",
       "        text-align: right;\n",
       "    }\n",
       "</style>\n",
       "<table border=\"1\" class=\"dataframe\">\n",
       "  <thead>\n",
       "    <tr style=\"text-align: right;\">\n",
       "      <th></th>\n",
       "      <th>Province/State</th>\n",
       "      <th>Country/Region</th>\n",
       "      <th>Last Update</th>\n",
       "      <th>Confirmed</th>\n",
       "      <th>Deaths</th>\n",
       "      <th>Recovered</th>\n",
       "      <th>City</th>\n",
       "      <th>Date_last_updated_AEDT</th>\n",
       "      <th>lat</th>\n",
       "      <th>lon</th>\n",
       "    </tr>\n",
       "  </thead>\n",
       "  <tbody>\n",
       "    <tr>\n",
       "      <th>0</th>\n",
       "      <td>Hubei</td>\n",
       "      <td>China</td>\n",
       "      <td>02/15/2020 23:00</td>\n",
       "      <td>56249</td>\n",
       "      <td>1596</td>\n",
       "      <td>5623</td>\n",
       "      <td>NaN</td>\n",
       "      <td>2020-02-16 15:00:00</td>\n",
       "      <td>31.151725</td>\n",
       "      <td>112.878322</td>\n",
       "    </tr>\n",
       "    <tr>\n",
       "      <th>1</th>\n",
       "      <td>Guangdong</td>\n",
       "      <td>China</td>\n",
       "      <td>02/15/2020 23:00</td>\n",
       "      <td>1316</td>\n",
       "      <td>2</td>\n",
       "      <td>442</td>\n",
       "      <td>NaN</td>\n",
       "      <td>2020-02-16 15:00:00</td>\n",
       "      <td>23.135769</td>\n",
       "      <td>113.198269</td>\n",
       "    </tr>\n",
       "    <tr>\n",
       "      <th>2</th>\n",
       "      <td>Henan</td>\n",
       "      <td>China</td>\n",
       "      <td>02/15/2020 23:00</td>\n",
       "      <td>1231</td>\n",
       "      <td>13</td>\n",
       "      <td>415</td>\n",
       "      <td>NaN</td>\n",
       "      <td>2020-02-16 15:00:00</td>\n",
       "      <td>34.000000</td>\n",
       "      <td>114.000000</td>\n",
       "    </tr>\n",
       "  </tbody>\n",
       "</table>\n",
       "</div>"
      ],
      "text/plain": [
       "  Province/State Country/Region       Last Update  Confirmed  Deaths  \\\n",
       "0          Hubei          China  02/15/2020 23:00      56249    1596   \n",
       "1      Guangdong          China  02/15/2020 23:00       1316       2   \n",
       "2          Henan          China  02/15/2020 23:00       1231      13   \n",
       "\n",
       "   Recovered  City Date_last_updated_AEDT        lat         lon  \n",
       "0       5623   NaN    2020-02-16 15:00:00  31.151725  112.878322  \n",
       "1        442   NaN    2020-02-16 15:00:00  23.135769  113.198269  \n",
       "2        415   NaN    2020-02-16 15:00:00  34.000000  114.000000  "
      ]
     },
     "execution_count": 14,
     "metadata": {},
     "output_type": "execute_result"
    }
   ],
   "source": [
    "df = pd.read_csv('sample.csv')\n",
    "df"
   ]
  },
  {
   "cell_type": "code",
   "execution_count": 15,
   "metadata": {},
   "outputs": [
    {
     "data": {
      "text/html": [
       "<div>\n",
       "<style scoped>\n",
       "    .dataframe tbody tr th:only-of-type {\n",
       "        vertical-align: middle;\n",
       "    }\n",
       "\n",
       "    .dataframe tbody tr th {\n",
       "        vertical-align: top;\n",
       "    }\n",
       "\n",
       "    .dataframe thead th {\n",
       "        text-align: right;\n",
       "    }\n",
       "</style>\n",
       "<table border=\"1\" class=\"dataframe\">\n",
       "  <thead>\n",
       "    <tr style=\"text-align: right;\">\n",
       "      <th></th>\n",
       "      <th>Province/State</th>\n",
       "      <th>Country/Region</th>\n",
       "      <th>Last Update</th>\n",
       "      <th>Confirmed</th>\n",
       "      <th>Deaths</th>\n",
       "      <th>Recovered</th>\n",
       "      <th>City</th>\n",
       "    </tr>\n",
       "  </thead>\n",
       "  <tbody>\n",
       "    <tr>\n",
       "      <th>0</th>\n",
       "      <td>Hubei</td>\n",
       "      <td>Mainland China</td>\n",
       "      <td>2/16/2020 18:30</td>\n",
       "      <td>58182</td>\n",
       "      <td>1696</td>\n",
       "      <td>6639</td>\n",
       "      <td>NaN</td>\n",
       "    </tr>\n",
       "    <tr>\n",
       "      <th>1</th>\n",
       "      <td>Guangdong</td>\n",
       "      <td>Mainland China</td>\n",
       "      <td>2/16/2020 18:30</td>\n",
       "      <td>1316</td>\n",
       "      <td>2</td>\n",
       "      <td>465</td>\n",
       "      <td>NaN</td>\n",
       "    </tr>\n",
       "    <tr>\n",
       "      <th>2</th>\n",
       "      <td>Henan</td>\n",
       "      <td>Mainland China</td>\n",
       "      <td>2/16/2020 18:30</td>\n",
       "      <td>1231</td>\n",
       "      <td>13</td>\n",
       "      <td>440</td>\n",
       "      <td>NaN</td>\n",
       "    </tr>\n",
       "    <tr>\n",
       "      <th>3</th>\n",
       "      <td>Zhejiang</td>\n",
       "      <td>Mainland China</td>\n",
       "      <td>2/16/2020 18:30</td>\n",
       "      <td>1167</td>\n",
       "      <td>0</td>\n",
       "      <td>456</td>\n",
       "      <td>NaN</td>\n",
       "    </tr>\n",
       "    <tr>\n",
       "      <th>4</th>\n",
       "      <td>Hunan</td>\n",
       "      <td>Mainland China</td>\n",
       "      <td>2/16/2020 18:30</td>\n",
       "      <td>1004</td>\n",
       "      <td>3</td>\n",
       "      <td>464</td>\n",
       "      <td>NaN</td>\n",
       "    </tr>\n",
       "  </tbody>\n",
       "</table>\n",
       "</div>"
      ],
      "text/plain": [
       "  Province/State  Country/Region      Last Update  Confirmed  Deaths  \\\n",
       "0          Hubei  Mainland China  2/16/2020 18:30      58182    1696   \n",
       "1      Guangdong  Mainland China  2/16/2020 18:30       1316       2   \n",
       "2          Henan  Mainland China  2/16/2020 18:30       1231      13   \n",
       "3       Zhejiang  Mainland China  2/16/2020 18:30       1167       0   \n",
       "4          Hunan  Mainland China  2/16/2020 18:30       1004       3   \n",
       "\n",
       "   Recovered City  \n",
       "0       6639  NaN  \n",
       "1        465  NaN  \n",
       "2        440  NaN  \n",
       "3        456  NaN  \n",
       "4        464  NaN  "
      ]
     },
     "execution_count": 15,
     "metadata": {},
     "output_type": "execute_result"
    }
   ],
   "source": [
    "df = pd.read_excel('sample.xlsx')\n",
    "df.head()"
   ]
  },
  {
   "cell_type": "code",
   "execution_count": 16,
   "metadata": {
    "scrolled": true
   },
   "outputs": [
    {
     "data": {
      "text/plain": [
       "['2020-02-16-18-30',\n",
       " '2020-02-16-15-30',\n",
       " '2020-02-16-06-00',\n",
       " '2020-02-16-03-00',\n",
       " '2020-02-16-01-00',\n",
       " '2020-02-15-23-00',\n",
       " '2020-02-15-21-00',\n",
       " '2020-02-15-20-00',\n",
       " '2020-02-15-16-00',\n",
       " '2020-02-15-06-00',\n",
       " '2020-02-15-05-00',\n",
       " '2020-02-15-03-30',\n",
       " '2020-02-14-23-00',\n",
       " '2020-02-14-20-00',\n",
       " '2020-02-14-18-30',\n",
       " '2020-02-14-06-00',\n",
       " '2020-02-14-04-00',\n",
       " '2020-02-14-01-00',\n",
       " '2020-02-13-22-00',\n",
       " '2020-02-13-21-00',\n",
       " '2020-02-13-19-30',\n",
       " '2020-02-13-06-00',\n",
       " '2020-02-13-03-00',\n",
       " '2020-02-13-00-30',\n",
       " '2020-02-12-21-30',\n",
       " '2020-02-12-20-00',\n",
       " '2020-02-12-19-00',\n",
       " '2020-02-12-17-00',\n",
       " '2020-02-12-06-00',\n",
       " '2020-02-12-04-00',\n",
       " '2020-02-12-01-00',\n",
       " '2020-02-11-23-00',\n",
       " '2020-02-11-20-30',\n",
       " '2020-02-11-18-30',\n",
       " '2020-02-11-17-30',\n",
       " '2020-02-11-05-30',\n",
       " '2020-02-11-05-00',\n",
       " '2020-02-11-03-00',\n",
       " '2020-02-11-00-00',\n",
       " '2020-02-10-22-30',\n",
       " '2020-02-10-22-00',\n",
       " '2020-02-10-20-00',\n",
       " '2020-02-10-17-30',\n",
       " '2020-02-10-06-00',\n",
       " '2020-02-10-04-00',\n",
       " '2020-02-10-02-30',\n",
       " '2020-02-10-01-00',\n",
       " '2020-02-09-23-00',\n",
       " '2020-02-09-21-00',\n",
       " '2020-02-09-19-30',\n",
       " '2020-02-09-17-30',\n",
       " '2020-02-09-16-00',\n",
       " '2020-02-09-06-00',\n",
       " '2020-02-09-03-00',\n",
       " '2020-02-09-00-00',\n",
       " '2020-02-08-22-00',\n",
       " '2020-02-08-20-00',\n",
       " '2020-02-08-18-00',\n",
       " '2020-02-08-16-00',\n",
       " '2020-02-08-06-00',\n",
       " '2020-02-08-05-00',\n",
       " '2020-02-08-03-00',\n",
       " '2020-02-08-01-00',\n",
       " '2020-02-07-23-00',\n",
       " '2020-02-07-21-00',\n",
       " '2020-02-07-20-00',\n",
       " '2020-02-07-19-00',\n",
       " '2020-02-07-17-00',\n",
       " '2020-02-07-16-00',\n",
       " '2020-02-07-06-00',\n",
       " '2020-02-07-03-00',\n",
       " '2020-02-07-00-30',\n",
       " '2020-02-06-21-30',\n",
       " '2020-02-06-20-00',\n",
       " '2020-02-06-18-00',\n",
       " '2020-02-06-15-00',\n",
       " '2020-02-06-06-00',\n",
       " '2020-02-06-03-00',\n",
       " '2020-02-05-23-00',\n",
       " '2020-02-05-19-00',\n",
       " '2020-02-05-15-00',\n",
       " '2020-02-05-06-00',\n",
       " '2020-02-05-02-00',\n",
       " '2020-02-04-20-00',\n",
       " '2020-02-04-17-00',\n",
       " '2020-02-04-14-00',\n",
       " '2020-02-04-05-00',\n",
       " '2020-02-04-01-00',\n",
       " '2020-02-03-20-00',\n",
       " '2020-02-03-18-00',\n",
       " '2020-02-03-15-00',\n",
       " '2020-02-03-05-00',\n",
       " '2020-02-03-03-00',\n",
       " '2020-02-02-22-00',\n",
       " '2020-02-02-20-00',\n",
       " '2020-02-02-14-00',\n",
       " '2020-02-02-05-00',\n",
       " '2020-02-01-23-00',\n",
       " '2020-02-01-18-00',\n",
       " '2020-02-01-10-00',\n",
       " '2020-01-31-19-00',\n",
       " '2020-01-31-14-00',\n",
       " '2020-01-30-21-30',\n",
       " '2020-01-30-11-00',\n",
       " '2020-01-29-21-00',\n",
       " '2020-01-29-14-30',\n",
       " '2020-01-29-13-00',\n",
       " '2020-01-28-23-00',\n",
       " '2020-01-28-18-00',\n",
       " '2020-01-28-13-00',\n",
       " '2020-01-27-20-30',\n",
       " '2020-01-27-19-00',\n",
       " '2020-01-27-09-00',\n",
       " '2020-01-26-23-00',\n",
       " '2020-01-26-11-00',\n",
       " '2020-01-25-22-00',\n",
       " '2020-01-25-12-00',\n",
       " '2020-01-25-00-00',\n",
       " '2020-01-24-12-00',\n",
       " '2020-01-24-00-00',\n",
       " '2020-01-23-00-00',\n",
       " '2020-01-22-00-00',\n",
       " '2020-01-21-00-00']"
      ]
     },
     "execution_count": 16,
     "metadata": {},
     "output_type": "execute_result"
    }
   ],
   "source": [
    "xlsx = pd.ExcelFile('sample.xlsx')\n",
    "# Now you can list all sheets in the file\n",
    "xlsx.sheet_names"
   ]
  },
  {
   "cell_type": "code",
   "execution_count": 17,
   "metadata": {},
   "outputs": [
    {
     "data": {
      "text/html": [
       "<div>\n",
       "<style scoped>\n",
       "    .dataframe tbody tr th:only-of-type {\n",
       "        vertical-align: middle;\n",
       "    }\n",
       "\n",
       "    .dataframe tbody tr th {\n",
       "        vertical-align: top;\n",
       "    }\n",
       "\n",
       "    .dataframe thead th {\n",
       "        text-align: right;\n",
       "    }\n",
       "</style>\n",
       "<table border=\"1\" class=\"dataframe\">\n",
       "  <thead>\n",
       "    <tr style=\"text-align: right;\">\n",
       "      <th></th>\n",
       "      <th>Province/State</th>\n",
       "      <th>Country/Region</th>\n",
       "      <th>Last Update</th>\n",
       "      <th>Confirmed</th>\n",
       "      <th>Deaths</th>\n",
       "      <th>Recovered</th>\n",
       "      <th>City</th>\n",
       "    </tr>\n",
       "  </thead>\n",
       "  <tbody>\n",
       "    <tr>\n",
       "      <th>0</th>\n",
       "      <td>Hubei</td>\n",
       "      <td>Mainland China</td>\n",
       "      <td>2/16/2020 18:30</td>\n",
       "      <td>58182</td>\n",
       "      <td>1696</td>\n",
       "      <td>6639</td>\n",
       "      <td>NaN</td>\n",
       "    </tr>\n",
       "    <tr>\n",
       "      <th>1</th>\n",
       "      <td>Guangdong</td>\n",
       "      <td>Mainland China</td>\n",
       "      <td>2/16/2020 18:30</td>\n",
       "      <td>1316</td>\n",
       "      <td>2</td>\n",
       "      <td>465</td>\n",
       "      <td>NaN</td>\n",
       "    </tr>\n",
       "    <tr>\n",
       "      <th>2</th>\n",
       "      <td>Henan</td>\n",
       "      <td>Mainland China</td>\n",
       "      <td>2/16/2020 18:30</td>\n",
       "      <td>1231</td>\n",
       "      <td>13</td>\n",
       "      <td>440</td>\n",
       "      <td>NaN</td>\n",
       "    </tr>\n",
       "    <tr>\n",
       "      <th>3</th>\n",
       "      <td>Zhejiang</td>\n",
       "      <td>Mainland China</td>\n",
       "      <td>2/16/2020 18:30</td>\n",
       "      <td>1167</td>\n",
       "      <td>0</td>\n",
       "      <td>456</td>\n",
       "      <td>NaN</td>\n",
       "    </tr>\n",
       "    <tr>\n",
       "      <th>4</th>\n",
       "      <td>Hunan</td>\n",
       "      <td>Mainland China</td>\n",
       "      <td>2/16/2020 18:30</td>\n",
       "      <td>1004</td>\n",
       "      <td>3</td>\n",
       "      <td>464</td>\n",
       "      <td>NaN</td>\n",
       "    </tr>\n",
       "  </tbody>\n",
       "</table>\n",
       "</div>"
      ],
      "text/plain": [
       "  Province/State  Country/Region      Last Update  Confirmed  Deaths  \\\n",
       "0          Hubei  Mainland China  2/16/2020 18:30      58182    1696   \n",
       "1      Guangdong  Mainland China  2/16/2020 18:30       1316       2   \n",
       "2          Henan  Mainland China  2/16/2020 18:30       1231      13   \n",
       "3       Zhejiang  Mainland China  2/16/2020 18:30       1167       0   \n",
       "4          Hunan  Mainland China  2/16/2020 18:30       1004       3   \n",
       "\n",
       "   Recovered City  \n",
       "0       6639  NaN  \n",
       "1        465  NaN  \n",
       "2        440  NaN  \n",
       "3        456  NaN  \n",
       "4        464  NaN  "
      ]
     },
     "execution_count": 17,
     "metadata": {},
     "output_type": "execute_result"
    }
   ],
   "source": [
    "# to read just one sheet to dataframe:\n",
    "df = pd.read_excel(xlsx, sheet_name=\"2020-02-16-18-30\")\n",
    "df.head()"
   ]
  }
 ],
 "metadata": {
  "kernelspec": {
   "display_name": "Python 3",
   "language": "python",
   "name": "python3"
  },
  "language_info": {
   "codemirror_mode": {
    "name": "ipython",
    "version": 3
   },
   "file_extension": ".py",
   "mimetype": "text/x-python",
   "name": "python",
   "nbconvert_exporter": "python",
   "pygments_lexer": "ipython3",
   "version": "3.7.6"
  },
  "toc": {
   "base_numbering": 1,
   "nav_menu": {},
   "number_sections": true,
   "sideBar": true,
   "skip_h1_title": false,
   "title_cell": "Table of Contents",
   "title_sidebar": "Contents",
   "toc_cell": false,
   "toc_position": {},
   "toc_section_display": true,
   "toc_window_display": false
  },
  "varInspector": {
   "cols": {
    "lenName": 16,
    "lenType": 16,
    "lenVar": 40
   },
   "kernels_config": {
    "python": {
     "delete_cmd_postfix": "",
     "delete_cmd_prefix": "del ",
     "library": "var_list.py",
     "varRefreshCmd": "print(var_dic_list())"
    },
    "r": {
     "delete_cmd_postfix": ") ",
     "delete_cmd_prefix": "rm(",
     "library": "var_list.r",
     "varRefreshCmd": "cat(var_dic_list()) "
    }
   },
   "types_to_exclude": [
    "module",
    "function",
    "builtin_function_or_method",
    "instance",
    "_Feature"
   ],
   "window_display": false
  }
 },
 "nbformat": 4,
 "nbformat_minor": 2
}
